{
 "cells": [
  {
   "cell_type": "markdown",
   "metadata": {},
   "source": [
    "<a href=\"https://cognitiveclass.ai\"><img src = \"https://ibm.box.com/shared/static/ugcqz6ohbvff804xp84y4kqnvvk3bq1g.png\" width = 300, align = \"center\"></a>\n",
    "\n",
    "<h1 align=center><font size = 5>Assignment: Notebook for Peer Assignment</font></h1>"
   ]
  },
  {
   "cell_type": "markdown",
   "metadata": {},
   "source": [
    "# Introduction\n",
    "\n",
    "Using this Python notebook you will:\n",
    "1. Understand 3 Chicago datasets  \n",
    "1. Load the 3 datasets into 3 tables in a Db2 database\n",
    "1. Execute SQL queries to answer assignment questions "
   ]
  },
  {
   "cell_type": "markdown",
   "metadata": {},
   "source": [
    "## Understand the datasets \n",
    "To complete the assignment problems in this notebook you will be using three datasets that are available on the city of Chicago's Data Portal:\n",
    "1. <a href=\"https://data.cityofchicago.org/Health-Human-Services/Census-Data-Selected-socioeconomic-indicators-in-C/kn9c-c2s2\">Socioeconomic Indicators in Chicago</a>\n",
    "1. <a href=\"https://data.cityofchicago.org/Education/Chicago-Public-Schools-Progress-Report-Cards-2011-/9xs2-f89t\">Chicago Public Schools</a>\n",
    "1. <a href=\"https://data.cityofchicago.org/Public-Safety/Crimes-2001-to-present/ijzp-q8t2\">Chicago Crime Data</a>\n",
    "\n",
    "### 1. Socioeconomic Indicators in Chicago\n",
    "This dataset contains a selection of six socioeconomic indicators of public health significance and a “hardship index,” for each Chicago community area, for the years 2008 – 2012.\n",
    "\n",
    "For this assignment you will use a snapshot of this dataset which can be downloaded from:\n",
    "https://ibm.box.com/shared/static/05c3415cbfbtfnr2fx4atenb2sd361ze.csv\n",
    "\n",
    "A detailed description of this dataset and the original dataset can be obtained from the Chicago Data Portal at:\n",
    "https://data.cityofchicago.org/Health-Human-Services/Census-Data-Selected-socioeconomic-indicators-in-C/kn9c-c2s2\n",
    "\n",
    "\n",
    "\n",
    "### 2. Chicago Public Schools\n",
    "\n",
    "This dataset shows all school level performance data used to create CPS School Report Cards for the 2011-2012 school year. This dataset is provided by the city of Chicago's Data Portal.\n",
    "\n",
    "For this assignment you will use a snapshot of this dataset which can be downloaded from:\n",
    "https://ibm.box.com/shared/static/0g7kbanvn5l2gt2qu38ukooatnjqyuys.csv\n",
    "\n",
    "A detailed description of this dataset and the original dataset can be obtained from the Chicago Data Portal at:\n",
    "https://data.cityofchicago.org/Education/Chicago-Public-Schools-Progress-Report-Cards-2011-/9xs2-f89t\n",
    "\n",
    "\n",
    "\n",
    "\n",
    "### 3. Chicago Crime Data \n",
    "\n",
    "This dataset reflects reported incidents of crime (with the exception of murders where data exists for each victim) that occurred in the City of Chicago from 2001 to present, minus the most recent seven days. \n",
    "\n",
    "This dataset is quite large - over 1.5GB in size with over 6.5 million rows. For the purposes of this assignment we will use a much smaller sample of this dataset which can be downloaded from:\n",
    "https://ibm.box.com/shared/static/svflyugsr9zbqy5bmowgswqemfpm1x7f.csv\n",
    "\n",
    "A detailed description of this dataset and the original dataset can be obtained from the Chicago Data Portal at:\n",
    "https://data.cityofchicago.org/Public-Safety/Crimes-2001-to-present/ijzp-q8t2\n"
   ]
  },
  {
   "cell_type": "markdown",
   "metadata": {},
   "source": [
    "### Store the datasets in database tables\n",
    "In many cases the dataset to be analyzed is available as a .CSV (comma separated values) file, perhaps on the internet. To analyze the data using SQL, it first needs to be stored in the database.\n",
    "\n",
    "While it is easier to read the dataset into a Pandas dataframe and then PERSIST it into the database as we saw in Week 3 Lab 3, it results in mapping to default datatypes which may not be optimal for SQL querying. For example a long textual field may map to a CLOB instead of a VARCHAR. \n",
    "\n",
    "Therefore, __it is highly recommended to manually load the table using the database console LOAD tool, as indicated in Week 2 Lab 1 Part II__. The only difference with that lab is that in Step 5 of the instructions you will need to click on create \"(+) New Table\" and specify the name of the table you want to create and then click \"Next\". \n",
    "\n",
    "<a href=\"https://cognitiveclass.ai\"><img src = \"https://ibm.box.com/shared/static/uc4xjh1uxcc78ks1i18v668simioz4es.jpg\"></a>\n",
    "\n",
    "##### Now open the Db2 console, open the LOAD tool, Select / Drag the .CSV file for the first dataset, Next create a New Table, and then follow the steps on-screen instructions to load the data. Name the new tables as folows:\n",
    "1. __CENSUS_DATA__\n",
    "1. __CHICAGO_PUBLIC_SCHOOLS__\n",
    "1. __CHICAGO_CRIME_DATA__"
   ]
  },
  {
   "cell_type": "markdown",
   "metadata": {},
   "source": [
    "### Connect to the database \n",
    "Let us first load the SQL extension and establish a connection with the database"
   ]
  },
  {
   "cell_type": "code",
   "execution_count": 1,
   "metadata": {},
   "outputs": [],
   "source": [
    "%load_ext sql"
   ]
  },
  {
   "cell_type": "code",
   "execution_count": 2,
   "metadata": {},
   "outputs": [
    {
     "name": "stdout",
     "output_type": "stream",
     "text": [
      " * ibm_db_sa://hcg90289:***@dashdb-txn-sbox-yp-dal09-04.services.dal.bluemix.net:50000/BLUDB\n",
      "Done.\n"
     ]
    },
    {
     "data": {
      "text/html": [
       "<table>\n",
       "    <tr>\n",
       "        <th>tabschema</th>\n",
       "        <th>tabname</th>\n",
       "        <th>create_time</th>\n",
       "    </tr>\n",
       "</table>"
      ],
      "text/plain": [
       "[]"
      ]
     },
     "execution_count": 2,
     "metadata": {},
     "output_type": "execute_result"
    }
   ],
   "source": [
    "# Remember the connection string is of the format:\n",
    "# %sql ibm_db_sa://my-username:my-password@my-hostname:my-port/my-db-name\n",
    "# Enter the connection string for your Db2 on Cloud database instance below\n",
    "%sql ibm_db_sa://hcg90289:bw10zlmgx7crb-gb@dashdb-txn-sbox-yp-dal09-04.services.dal.bluemix.net:50000/BLUDB\n",
    "%sql select TABSCHEMA, TABNAME, CREATE_TIME from SYSCAT.TABLES where TABSCHEMA='Db2-bo'"
   ]
  },
  {
   "cell_type": "markdown",
   "metadata": {},
   "source": [
    "## Problems\n",
    "Now write and execute SQL queries to solve assignment problems\n",
    "\n",
    "### Problem 1\n",
    "\n",
    "##### How many rows are in each dataset?"
   ]
  },
  {
   "cell_type": "code",
   "execution_count": 3,
   "metadata": {},
   "outputs": [
    {
     "name": "stdout",
     "output_type": "stream",
     "text": [
      " * ibm_db_sa://hcg90289:***@dashdb-txn-sbox-yp-dal09-04.services.dal.bluemix.net:50000/BLUDB\n",
      "Done.\n"
     ]
    },
    {
     "data": {
      "text/html": [
       "<table>\n",
       "    <tr>\n",
       "        <th>1</th>\n",
       "    </tr>\n",
       "    <tr>\n",
       "        <td>78</td>\n",
       "    </tr>\n",
       "</table>"
      ],
      "text/plain": [
       "[(Decimal('78'),)]"
      ]
     },
     "execution_count": 3,
     "metadata": {},
     "output_type": "execute_result"
    }
   ],
   "source": [
    "# Rows in Census Data (Socieconimic Indicators)\n",
    "# SELECT count(*) FROM mytable;\n",
    "%sql SELECT count(*) FROM CENSUS;"
   ]
  },
  {
   "cell_type": "code",
   "execution_count": 4,
   "metadata": {},
   "outputs": [
    {
     "name": "stdout",
     "output_type": "stream",
     "text": [
      " * ibm_db_sa://hcg90289:***@dashdb-txn-sbox-yp-dal09-04.services.dal.bluemix.net:50000/BLUDB\n",
      "Done.\n"
     ]
    },
    {
     "data": {
      "text/html": [
       "<table>\n",
       "    <tr>\n",
       "        <th>1</th>\n",
       "    </tr>\n",
       "    <tr>\n",
       "        <td>566</td>\n",
       "    </tr>\n",
       "</table>"
      ],
      "text/plain": [
       "[(Decimal('566'),)]"
      ]
     },
     "execution_count": 4,
     "metadata": {},
     "output_type": "execute_result"
    }
   ],
   "source": [
    "# Rows in Public Schools\n",
    "%sql SELECT count(*) FROM SCHOOLS"
   ]
  },
  {
   "cell_type": "code",
   "execution_count": 5,
   "metadata": {},
   "outputs": [
    {
     "name": "stdout",
     "output_type": "stream",
     "text": [
      " * ibm_db_sa://hcg90289:***@dashdb-txn-sbox-yp-dal09-04.services.dal.bluemix.net:50000/BLUDB\n",
      "Done.\n"
     ]
    },
    {
     "data": {
      "text/html": [
       "<table>\n",
       "    <tr>\n",
       "        <th>1</th>\n",
       "    </tr>\n",
       "    <tr>\n",
       "        <td>533</td>\n",
       "    </tr>\n",
       "</table>"
      ],
      "text/plain": [
       "[(Decimal('533'),)]"
      ]
     },
     "execution_count": 5,
     "metadata": {},
     "output_type": "execute_result"
    }
   ],
   "source": [
    "# Rows in Crime Data\n",
    "%sql SELECT count(*) FROM CRIME"
   ]
  },
  {
   "cell_type": "markdown",
   "metadata": {},
   "source": [
    "### Problem 2\n",
    "\n",
    "##### Find average college enrollments by community area"
   ]
  },
  {
   "cell_type": "code",
   "execution_count": 6,
   "metadata": {
    "collapsed": true
   },
   "outputs": [
    {
     "name": "stdout",
     "output_type": "stream",
     "text": [
      " * ibm_db_sa://hcg90289:***@dashdb-txn-sbox-yp-dal09-04.services.dal.bluemix.net:50000/BLUDB\n",
      "Done.\n"
     ]
    },
    {
     "data": {
      "text/html": [
       "<table>\n",
       "    <tr>\n",
       "        <th>Community_Area_Name</th>\n",
       "        <th>average_enrollement</th>\n",
       "    </tr>\n",
       "    <tr>\n",
       "        <td>OAKLAND</td>\n",
       "        <td>140.000000</td>\n",
       "    </tr>\n",
       "    <tr>\n",
       "        <td>CALUMET HEIGHTS</td>\n",
       "        <td>261.333333</td>\n",
       "    </tr>\n",
       "    <tr>\n",
       "        <td>FULLER PARK</td>\n",
       "        <td>265.500000</td>\n",
       "    </tr>\n",
       "    <tr>\n",
       "        <td>NORTH LAWNDALE</td>\n",
       "        <td>321.625000</td>\n",
       "    </tr>\n",
       "    <tr>\n",
       "        <td>PULLMAN</td>\n",
       "        <td>324.000000</td>\n",
       "    </tr>\n",
       "    <tr>\n",
       "        <td>WEST PULLMAN</td>\n",
       "        <td>324.000000</td>\n",
       "    </tr>\n",
       "    <tr>\n",
       "        <td>WEST GARFIELD PARK</td>\n",
       "        <td>327.750000</td>\n",
       "    </tr>\n",
       "    <tr>\n",
       "        <td>GRAND BOULEVARD</td>\n",
       "        <td>351.125000</td>\n",
       "    </tr>\n",
       "    <tr>\n",
       "        <td>RIVERDALE</td>\n",
       "        <td>386.750000</td>\n",
       "    </tr>\n",
       "    <tr>\n",
       "        <td>MCKINLEY PARK</td>\n",
       "        <td>388.000000</td>\n",
       "    </tr>\n",
       "    <tr>\n",
       "        <td>ENGLEWOOD</td>\n",
       "        <td>401.882352</td>\n",
       "    </tr>\n",
       "    <tr>\n",
       "        <td>GREATER GRAND CROSSING</td>\n",
       "        <td>405.100000</td>\n",
       "    </tr>\n",
       "    <tr>\n",
       "        <td>BEVERLY</td>\n",
       "        <td>409.000000</td>\n",
       "    </tr>\n",
       "    <tr>\n",
       "        <td>EAST GARFIELD PARK</td>\n",
       "        <td>410.538461</td>\n",
       "    </tr>\n",
       "    <tr>\n",
       "        <td>AUBURN GRESHAM</td>\n",
       "        <td>417.500000</td>\n",
       "    </tr>\n",
       "</table>"
      ],
      "text/plain": [
       "[('OAKLAND', Decimal('140.000000')),\n",
       " ('CALUMET HEIGHTS', Decimal('261.333333')),\n",
       " ('FULLER PARK', Decimal('265.500000')),\n",
       " ('NORTH LAWNDALE', Decimal('321.625000')),\n",
       " ('PULLMAN', Decimal('324.000000')),\n",
       " ('WEST PULLMAN', Decimal('324.000000')),\n",
       " ('WEST GARFIELD PARK', Decimal('327.750000')),\n",
       " ('GRAND BOULEVARD', Decimal('351.125000')),\n",
       " ('RIVERDALE', Decimal('386.750000')),\n",
       " ('MCKINLEY PARK', Decimal('388.000000')),\n",
       " ('ENGLEWOOD', Decimal('401.882352')),\n",
       " ('GREATER GRAND CROSSING', Decimal('405.100000')),\n",
       " ('BEVERLY', Decimal('409.000000')),\n",
       " ('EAST GARFIELD PARK', Decimal('410.538461')),\n",
       " ('AUBURN GRESHAM', Decimal('417.500000'))]"
      ]
     },
     "execution_count": 6,
     "metadata": {},
     "output_type": "execute_result"
    }
   ],
   "source": [
    "%sql select \"Community_Area_Name\", avg(\"College_Enrollment__number_of_students_\") as Average_Enrollement from SCHOOLS \\\n",
    "group by \"Community_Area_Name\" \\\n",
    "order by  Average_Enrollement \\\n",
    "fetch first 15 rows only"
   ]
  },
  {
   "cell_type": "markdown",
   "metadata": {},
   "source": [
    "### Problem 3\n",
    "\n",
    "##### Find the number of schools that are healthy school certified"
   ]
  },
  {
   "cell_type": "code",
   "execution_count": 7,
   "metadata": {
    "collapsed": true
   },
   "outputs": [
    {
     "name": "stdout",
     "output_type": "stream",
     "text": [
      " * ibm_db_sa://hcg90289:***@dashdb-txn-sbox-yp-dal09-04.services.dal.bluemix.net:50000/BLUDB\n",
      "Done.\n"
     ]
    },
    {
     "data": {
      "text/html": [
       "<table>\n",
       "    <tr>\n",
       "        <th>Name_of_School</th>\n",
       "        <th>Healthy_Schools_Certified_</th>\n",
       "    </tr>\n",
       "    <tr>\n",
       "        <td>Abraham Lincoln Elementary School</td>\n",
       "        <td>Yes</td>\n",
       "    </tr>\n",
       "    <tr>\n",
       "        <td>Air Force Academy High School</td>\n",
       "        <td>Yes</td>\n",
       "    </tr>\n",
       "    <tr>\n",
       "        <td>Ana Roque de Duprey Elementary School</td>\n",
       "        <td>Yes</td>\n",
       "    </tr>\n",
       "    <tr>\n",
       "        <td>Calmeca Academy of Fine Arts and Dual Language</td>\n",
       "        <td>Yes</td>\n",
       "    </tr>\n",
       "    <tr>\n",
       "        <td>Cyrus H McCormick Elementary School</td>\n",
       "        <td>Yes</td>\n",
       "    </tr>\n",
       "    <tr>\n",
       "        <td>Eli Whitney Elementary School</td>\n",
       "        <td>Yes</td>\n",
       "    </tr>\n",
       "    <tr>\n",
       "        <td>Francisco I Madero Middle School</td>\n",
       "        <td>Yes</td>\n",
       "    </tr>\n",
       "    <tr>\n",
       "        <td>Hawthorne Elementary Scholastic Academy</td>\n",
       "        <td>Yes</td>\n",
       "    </tr>\n",
       "    <tr>\n",
       "        <td>Irma C Ruiz Elementary School</td>\n",
       "        <td>Yes</td>\n",
       "    </tr>\n",
       "    <tr>\n",
       "        <td>John A Walsh Elementary School</td>\n",
       "        <td>Yes</td>\n",
       "    </tr>\n",
       "    <tr>\n",
       "        <td>John C Burroughs Elementary School</td>\n",
       "        <td>Yes</td>\n",
       "    </tr>\n",
       "    <tr>\n",
       "        <td>Jose De Diego Elementary Community Academy</td>\n",
       "        <td>Yes</td>\n",
       "    </tr>\n",
       "    <tr>\n",
       "        <td>Manuel Perez Elementary School</td>\n",
       "        <td>Yes</td>\n",
       "    </tr>\n",
       "    <tr>\n",
       "        <td>Nathanael Greene Elementary School</td>\n",
       "        <td>Yes</td>\n",
       "    </tr>\n",
       "    <tr>\n",
       "        <td>Rufus M Hitch Elementary School</td>\n",
       "        <td>Yes</td>\n",
       "    </tr>\n",
       "    <tr>\n",
       "        <td>Sharon Christa McAuliffe Elementary School</td>\n",
       "        <td>Yes</td>\n",
       "    </tr>\n",
       "</table>"
      ],
      "text/plain": [
       "[('Abraham Lincoln Elementary School', 'Yes'),\n",
       " ('Air Force Academy High School', 'Yes'),\n",
       " ('Ana Roque de Duprey Elementary School', 'Yes'),\n",
       " ('Calmeca Academy of Fine Arts and Dual Language', 'Yes'),\n",
       " ('Cyrus H McCormick Elementary School', 'Yes'),\n",
       " ('Eli Whitney Elementary School', 'Yes'),\n",
       " ('Francisco I Madero Middle School', 'Yes'),\n",
       " ('Hawthorne Elementary Scholastic Academy', 'Yes'),\n",
       " ('Irma C Ruiz Elementary School', 'Yes'),\n",
       " ('John A Walsh Elementary School', 'Yes'),\n",
       " ('John C Burroughs Elementary School', 'Yes'),\n",
       " ('Jose De Diego Elementary Community Academy', 'Yes'),\n",
       " ('Manuel Perez Elementary School', 'Yes'),\n",
       " ('Nathanael Greene Elementary School', 'Yes'),\n",
       " ('Rufus M Hitch Elementary School', 'Yes'),\n",
       " ('Sharon Christa McAuliffe Elementary School', 'Yes')]"
      ]
     },
     "execution_count": 7,
     "metadata": {},
     "output_type": "execute_result"
    }
   ],
   "source": [
    "%sql select \"Name_of_School\", \"Healthy_Schools_Certified_\" from SCHOOLS \\\n",
    "    where \"Healthy_Schools_Certified_\" = 'Yes'"
   ]
  },
  {
   "cell_type": "markdown",
   "metadata": {},
   "source": [
    "### Problem 4\n",
    "\n",
    "##### How many observations have a Location Description value of GAS STATION\n"
   ]
  },
  {
   "cell_type": "code",
   "execution_count": 8,
   "metadata": {
    "collapsed": true
   },
   "outputs": [
    {
     "name": "stdout",
     "output_type": "stream",
     "text": [
      " * ibm_db_sa://hcg90289:***@dashdb-txn-sbox-yp-dal09-04.services.dal.bluemix.net:50000/BLUDB\n",
      "Done.\n"
     ]
    },
    {
     "data": {
      "text/html": [
       "<table>\n",
       "    <tr>\n",
       "        <th>1</th>\n",
       "    </tr>\n",
       "    <tr>\n",
       "        <td>6</td>\n",
       "    </tr>\n",
       "</table>"
      ],
      "text/plain": [
       "[(Decimal('6'),)]"
      ]
     },
     "execution_count": 8,
     "metadata": {},
     "output_type": "execute_result"
    }
   ],
   "source": [
    "%sql select count(*) from CRIME where \"Location_Description\" = 'GAS STATION' "
   ]
  },
  {
   "cell_type": "markdown",
   "metadata": {},
   "source": [
    "### Problem 5\n",
    "\n",
    "##### Retrieve a list of the top 10 community areas which have most number of schools and sorted in descending order."
   ]
  },
  {
   "cell_type": "code",
   "execution_count": 9,
   "metadata": {
    "collapsed": true
   },
   "outputs": [
    {
     "name": "stdout",
     "output_type": "stream",
     "text": [
      " * ibm_db_sa://hcg90289:***@dashdb-txn-sbox-yp-dal09-04.services.dal.bluemix.net:50000/BLUDB\n",
      "Done.\n"
     ]
    },
    {
     "data": {
      "text/html": [
       "<table>\n",
       "    <tr>\n",
       "        <th>schools_total</th>\n",
       "        <th>community</th>\n",
       "    </tr>\n",
       "    <tr>\n",
       "        <td>23</td>\n",
       "        <td>AUSTIN</td>\n",
       "    </tr>\n",
       "    <tr>\n",
       "        <td>22</td>\n",
       "        <td>SOUTH LAWNDALE</td>\n",
       "    </tr>\n",
       "    <tr>\n",
       "        <td>20</td>\n",
       "        <td>WEST TOWN</td>\n",
       "    </tr>\n",
       "    <tr>\n",
       "        <td>17</td>\n",
       "        <td>ENGLEWOOD</td>\n",
       "    </tr>\n",
       "    <tr>\n",
       "        <td>16</td>\n",
       "        <td>NEAR WEST SIDE</td>\n",
       "    </tr>\n",
       "    <tr>\n",
       "        <td>16</td>\n",
       "        <td>NORTH LAWNDALE</td>\n",
       "    </tr>\n",
       "    <tr>\n",
       "        <td>13</td>\n",
       "        <td>EAST GARFIELD PARK</td>\n",
       "    </tr>\n",
       "    <tr>\n",
       "        <td>13</td>\n",
       "        <td>ROSELAND</td>\n",
       "    </tr>\n",
       "    <tr>\n",
       "        <td>13</td>\n",
       "        <td>NEW CITY</td>\n",
       "    </tr>\n",
       "    <tr>\n",
       "        <td>13</td>\n",
       "        <td>HUMBOLDT PARK</td>\n",
       "    </tr>\n",
       "</table>"
      ],
      "text/plain": [
       "[(Decimal('23'), 'AUSTIN'),\n",
       " (Decimal('22'), 'SOUTH LAWNDALE'),\n",
       " (Decimal('20'), 'WEST TOWN'),\n",
       " (Decimal('17'), 'ENGLEWOOD'),\n",
       " (Decimal('16'), 'NEAR WEST SIDE'),\n",
       " (Decimal('16'), 'NORTH LAWNDALE'),\n",
       " (Decimal('13'), 'EAST GARFIELD PARK'),\n",
       " (Decimal('13'), 'ROSELAND'),\n",
       " (Decimal('13'), 'NEW CITY'),\n",
       " (Decimal('13'), 'HUMBOLDT PARK')]"
      ]
     },
     "execution_count": 9,
     "metadata": {},
     "output_type": "execute_result"
    }
   ],
   "source": [
    "%sql select count(*) as Schools_total, \"Community_Area_Name\" as Community from SCHOOLS \\\n",
    "group by \"Community_Area_Name\" \\\n",
    "order by Schools_total \\\n",
    "desc \\\n",
    "fetch first 10 rows only"
   ]
  },
  {
   "cell_type": "markdown",
   "metadata": {},
   "source": [
    "### Problem 6\n",
    "\n",
    "##### How many observations have value MOTOR VEHICLE THEFT in the Primary Type variable (this is the number of crimes related to Motor vehicles)"
   ]
  },
  {
   "cell_type": "code",
   "execution_count": 10,
   "metadata": {
    "collapsed": true
   },
   "outputs": [
    {
     "name": "stdout",
     "output_type": "stream",
     "text": [
      " * ibm_db_sa://hcg90289:***@dashdb-txn-sbox-yp-dal09-04.services.dal.bluemix.net:50000/BLUDB\n",
      "Done.\n"
     ]
    },
    {
     "data": {
      "text/html": [
       "<table>\n",
       "    <tr>\n",
       "        <th>Primary_Type</th>\n",
       "        <th>Description</th>\n",
       "    </tr>\n",
       "    <tr>\n",
       "        <td>MOTOR VEHICLE THEFT</td>\n",
       "        <td>AUTOMOBILE</td>\n",
       "    </tr>\n",
       "    <tr>\n",
       "        <td>MOTOR VEHICLE THEFT</td>\n",
       "        <td>AUTOMOBILE</td>\n",
       "    </tr>\n",
       "    <tr>\n",
       "        <td>MOTOR VEHICLE THEFT</td>\n",
       "        <td>AUTOMOBILE</td>\n",
       "    </tr>\n",
       "    <tr>\n",
       "        <td>MOTOR VEHICLE THEFT</td>\n",
       "        <td>THEFT/RECOVERY: AUTOMOBILE</td>\n",
       "    </tr>\n",
       "    <tr>\n",
       "        <td>MOTOR VEHICLE THEFT</td>\n",
       "        <td>AUTOMOBILE</td>\n",
       "    </tr>\n",
       "    <tr>\n",
       "        <td>MOTOR VEHICLE THEFT</td>\n",
       "        <td>AUTOMOBILE</td>\n",
       "    </tr>\n",
       "    <tr>\n",
       "        <td>MOTOR VEHICLE THEFT</td>\n",
       "        <td>AUTOMOBILE</td>\n",
       "    </tr>\n",
       "    <tr>\n",
       "        <td>MOTOR VEHICLE THEFT</td>\n",
       "        <td>AUTOMOBILE</td>\n",
       "    </tr>\n",
       "    <tr>\n",
       "        <td>MOTOR VEHICLE THEFT</td>\n",
       "        <td>AUTOMOBILE</td>\n",
       "    </tr>\n",
       "    <tr>\n",
       "        <td>MOTOR VEHICLE THEFT</td>\n",
       "        <td>AUTOMOBILE</td>\n",
       "    </tr>\n",
       "    <tr>\n",
       "        <td>MOTOR VEHICLE THEFT</td>\n",
       "        <td>THEFT/RECOVERY: AUTOMOBILE</td>\n",
       "    </tr>\n",
       "    <tr>\n",
       "        <td>MOTOR VEHICLE THEFT</td>\n",
       "        <td>AUTOMOBILE</td>\n",
       "    </tr>\n",
       "    <tr>\n",
       "        <td>MOTOR VEHICLE THEFT</td>\n",
       "        <td>AUTOMOBILE</td>\n",
       "    </tr>\n",
       "    <tr>\n",
       "        <td>MOTOR VEHICLE THEFT</td>\n",
       "        <td>AUTOMOBILE</td>\n",
       "    </tr>\n",
       "    <tr>\n",
       "        <td>MOTOR VEHICLE THEFT</td>\n",
       "        <td>AUTOMOBILE</td>\n",
       "    </tr>\n",
       "    <tr>\n",
       "        <td>MOTOR VEHICLE THEFT</td>\n",
       "        <td>AUTOMOBILE</td>\n",
       "    </tr>\n",
       "    <tr>\n",
       "        <td>MOTOR VEHICLE THEFT</td>\n",
       "        <td>ATT: AUTOMOBILE</td>\n",
       "    </tr>\n",
       "    <tr>\n",
       "        <td>MOTOR VEHICLE THEFT</td>\n",
       "        <td>AUTOMOBILE</td>\n",
       "    </tr>\n",
       "    <tr>\n",
       "        <td>MOTOR VEHICLE THEFT</td>\n",
       "        <td>AUTOMOBILE</td>\n",
       "    </tr>\n",
       "    <tr>\n",
       "        <td>MOTOR VEHICLE THEFT</td>\n",
       "        <td>TRUCK, BUS, MOTOR HOME</td>\n",
       "    </tr>\n",
       "    <tr>\n",
       "        <td>MOTOR VEHICLE THEFT</td>\n",
       "        <td>THEFT/RECOVERY: AUTOMOBILE</td>\n",
       "    </tr>\n",
       "    <tr>\n",
       "        <td>MOTOR VEHICLE THEFT</td>\n",
       "        <td>AUTOMOBILE</td>\n",
       "    </tr>\n",
       "    <tr>\n",
       "        <td>MOTOR VEHICLE THEFT</td>\n",
       "        <td>AUTOMOBILE</td>\n",
       "    </tr>\n",
       "    <tr>\n",
       "        <td>MOTOR VEHICLE THEFT</td>\n",
       "        <td>AUTOMOBILE</td>\n",
       "    </tr>\n",
       "</table>"
      ],
      "text/plain": [
       "[('MOTOR VEHICLE THEFT', 'AUTOMOBILE'),\n",
       " ('MOTOR VEHICLE THEFT', 'AUTOMOBILE'),\n",
       " ('MOTOR VEHICLE THEFT', 'AUTOMOBILE'),\n",
       " ('MOTOR VEHICLE THEFT', 'THEFT/RECOVERY: AUTOMOBILE'),\n",
       " ('MOTOR VEHICLE THEFT', 'AUTOMOBILE'),\n",
       " ('MOTOR VEHICLE THEFT', 'AUTOMOBILE'),\n",
       " ('MOTOR VEHICLE THEFT', 'AUTOMOBILE'),\n",
       " ('MOTOR VEHICLE THEFT', 'AUTOMOBILE'),\n",
       " ('MOTOR VEHICLE THEFT', 'AUTOMOBILE'),\n",
       " ('MOTOR VEHICLE THEFT', 'AUTOMOBILE'),\n",
       " ('MOTOR VEHICLE THEFT', 'THEFT/RECOVERY: AUTOMOBILE'),\n",
       " ('MOTOR VEHICLE THEFT', 'AUTOMOBILE'),\n",
       " ('MOTOR VEHICLE THEFT', 'AUTOMOBILE'),\n",
       " ('MOTOR VEHICLE THEFT', 'AUTOMOBILE'),\n",
       " ('MOTOR VEHICLE THEFT', 'AUTOMOBILE'),\n",
       " ('MOTOR VEHICLE THEFT', 'AUTOMOBILE'),\n",
       " ('MOTOR VEHICLE THEFT', 'ATT: AUTOMOBILE'),\n",
       " ('MOTOR VEHICLE THEFT', 'AUTOMOBILE'),\n",
       " ('MOTOR VEHICLE THEFT', 'AUTOMOBILE'),\n",
       " ('MOTOR VEHICLE THEFT', 'TRUCK, BUS, MOTOR HOME'),\n",
       " ('MOTOR VEHICLE THEFT', 'THEFT/RECOVERY: AUTOMOBILE'),\n",
       " ('MOTOR VEHICLE THEFT', 'AUTOMOBILE'),\n",
       " ('MOTOR VEHICLE THEFT', 'AUTOMOBILE'),\n",
       " ('MOTOR VEHICLE THEFT', 'AUTOMOBILE')]"
      ]
     },
     "execution_count": 10,
     "metadata": {},
     "output_type": "execute_result"
    }
   ],
   "source": [
    "%sql select \"Primary_Type\", \"Description\" from CRIME \\\n",
    "    where \"Primary_Type\" = 'MOTOR VEHICLE THEFT'"
   ]
  },
  {
   "cell_type": "markdown",
   "metadata": {},
   "source": [
    "### Problem 7\n",
    "\n",
    "##### Find the minimum “Average Student Attendance” for community are where hardship is 96. Hint: use INNER JOIN"
   ]
  },
  {
   "cell_type": "code",
   "execution_count": 67,
   "metadata": {
    "collapsed": true
   },
   "outputs": [
    {
     "name": "stdout",
     "output_type": "stream",
     "text": [
      " * ibm_db_sa://hcg90289:***@dashdb-txn-sbox-yp-dal09-04.services.dal.bluemix.net:50000/BLUDB\n",
      "Done.\n"
     ]
    },
    {
     "data": {
      "text/html": [
       "<table>\n",
       "    <tr>\n",
       "        <th>id</th>\n",
       "        <th>Case_Number</th>\n",
       "        <th>Date</th>\n",
       "        <th>Block</th>\n",
       "        <th>iucr</th>\n",
       "        <th>Primary_Type</th>\n",
       "        <th>Description</th>\n",
       "        <th>Location_Description</th>\n",
       "        <th>Arrest</th>\n",
       "        <th>Domestic</th>\n",
       "        <th>Beat</th>\n",
       "        <th>District</th>\n",
       "        <th>Ward</th>\n",
       "        <th>Community_Area</th>\n",
       "        <th>FBI_Code</th>\n",
       "        <th>X_Coordinate</th>\n",
       "        <th>Y_Coordinate</th>\n",
       "        <th>Year</th>\n",
       "        <th>Updated_On</th>\n",
       "        <th>Latitude</th>\n",
       "        <th>Longitude</th>\n",
       "        <th>Location</th>\n",
       "    </tr>\n",
       "    <tr>\n",
       "        <td>3512276</td>\n",
       "        <td>HK587712</td>\n",
       "        <td>08/28/2004 05:50:56 PM</td>\n",
       "        <td>047XX S KEDZIE AVE</td>\n",
       "        <td>0890</td>\n",
       "        <td>THEFT</td>\n",
       "        <td>FROM BUILDING</td>\n",
       "        <td>SMALL RETAIL STORE</td>\n",
       "        <td>False</td>\n",
       "        <td>False</td>\n",
       "        <td>911</td>\n",
       "        <td>9.0</td>\n",
       "        <td>14.0</td>\n",
       "        <td>58.0</td>\n",
       "        <td>06</td>\n",
       "        <td>1155838.0</td>\n",
       "        <td>1873050.0</td>\n",
       "        <td>2004</td>\n",
       "        <td>02/10/2018 03:50:01 PM</td>\n",
       "        <td>41.807440500000006</td>\n",
       "        <td>-87.70395584900000</td>\n",
       "        <td>(41.8074405, -87.703955849)</td>\n",
       "    </tr>\n",
       "    <tr>\n",
       "        <td>3406613</td>\n",
       "        <td>HK456306</td>\n",
       "        <td>06/26/2004 12:40:00 PM</td>\n",
       "        <td>009XX N CENTRAL PARK AVE</td>\n",
       "        <td>0820</td>\n",
       "        <td>THEFT</td>\n",
       "        <td>$500 AND UNDER</td>\n",
       "        <td>OTHER</td>\n",
       "        <td>False</td>\n",
       "        <td>False</td>\n",
       "        <td>1112</td>\n",
       "        <td>11.0</td>\n",
       "        <td>27.0</td>\n",
       "        <td>23.0</td>\n",
       "        <td>06</td>\n",
       "        <td>1152206.0</td>\n",
       "        <td>1906127.0</td>\n",
       "        <td>2004</td>\n",
       "        <td>02/28/2018 03:56:25 PM</td>\n",
       "        <td>41.898279962</td>\n",
       "        <td>-87.71640550500000</td>\n",
       "        <td>(41.898279962, -87.716405505)</td>\n",
       "    </tr>\n",
       "    <tr>\n",
       "        <td>8002131</td>\n",
       "        <td>HT233595</td>\n",
       "        <td>04/04/2011 05:45:00 AM</td>\n",
       "        <td>043XX S WABASH AVE</td>\n",
       "        <td>0820</td>\n",
       "        <td>THEFT</td>\n",
       "        <td>$500 AND UNDER</td>\n",
       "        <td>NURSING HOME/RETIREMENT HOME</td>\n",
       "        <td>False</td>\n",
       "        <td>False</td>\n",
       "        <td>221</td>\n",
       "        <td>2.0</td>\n",
       "        <td>3.0</td>\n",
       "        <td>38.0</td>\n",
       "        <td>06</td>\n",
       "        <td>1177436.0</td>\n",
       "        <td>1876313.0</td>\n",
       "        <td>2011</td>\n",
       "        <td>02/10/2018 03:50:01 PM</td>\n",
       "        <td>41.815933131</td>\n",
       "        <td>-87.62464212700000</td>\n",
       "        <td>(41.815933131, -87.624642127)</td>\n",
       "    </tr>\n",
       "    <tr>\n",
       "        <td>7903289</td>\n",
       "        <td>HT133522</td>\n",
       "        <td>12/30/2010 04:30:00 PM</td>\n",
       "        <td>083XX S KINGSTON AVE</td>\n",
       "        <td>0840</td>\n",
       "        <td>THEFT</td>\n",
       "        <td>FINANCIAL ID THEFT: OVER $300</td>\n",
       "        <td>RESIDENCE</td>\n",
       "        <td>False</td>\n",
       "        <td>False</td>\n",
       "        <td>423</td>\n",
       "        <td>4.0</td>\n",
       "        <td>7.0</td>\n",
       "        <td>46.0</td>\n",
       "        <td>06</td>\n",
       "        <td>1194622.0</td>\n",
       "        <td>1850125.0</td>\n",
       "        <td>2010</td>\n",
       "        <td>02/10/2018 03:50:01 PM</td>\n",
       "        <td>41.743665322</td>\n",
       "        <td>-87.56246275600000</td>\n",
       "        <td>(41.743665322, -87.562462756)</td>\n",
       "    </tr>\n",
       "    <tr>\n",
       "        <td>10402076</td>\n",
       "        <td>HZ138551</td>\n",
       "        <td>02/02/2016 07:30:00 PM</td>\n",
       "        <td>033XX W 66TH ST</td>\n",
       "        <td>0820</td>\n",
       "        <td>THEFT</td>\n",
       "        <td>$500 AND UNDER</td>\n",
       "        <td>ALLEY</td>\n",
       "        <td>False</td>\n",
       "        <td>False</td>\n",
       "        <td>831</td>\n",
       "        <td>8.0</td>\n",
       "        <td>15.0</td>\n",
       "        <td>66.0</td>\n",
       "        <td>06</td>\n",
       "        <td>1155240.0</td>\n",
       "        <td>1860661.0</td>\n",
       "        <td>2016</td>\n",
       "        <td>02/10/2018 03:50:01 PM</td>\n",
       "        <td>41.773455295</td>\n",
       "        <td>-87.70648047100000</td>\n",
       "        <td>(41.773455295, -87.706480471)</td>\n",
       "    </tr>\n",
       "    <tr>\n",
       "        <td>7732712</td>\n",
       "        <td>HS540106</td>\n",
       "        <td>09/29/2010 07:59:00 AM</td>\n",
       "        <td>006XX W CHICAGO AVE</td>\n",
       "        <td>0810</td>\n",
       "        <td>THEFT</td>\n",
       "        <td>OVER $500</td>\n",
       "        <td>PARKING LOT/GARAGE(NON.RESID.)</td>\n",
       "        <td>False</td>\n",
       "        <td>False</td>\n",
       "        <td>1323</td>\n",
       "        <td>12.0</td>\n",
       "        <td>27.0</td>\n",
       "        <td>24.0</td>\n",
       "        <td>06</td>\n",
       "        <td>1171668.0</td>\n",
       "        <td>1905607.0</td>\n",
       "        <td>2010</td>\n",
       "        <td>02/10/2018 03:50:01 PM</td>\n",
       "        <td>41.896446772</td>\n",
       "        <td>-87.64493867799999</td>\n",
       "        <td>(41.896446772, -87.644938678)</td>\n",
       "    </tr>\n",
       "    <tr>\n",
       "        <td>10769475</td>\n",
       "        <td>HZ534771</td>\n",
       "        <td>11/30/2016 01:15:00 AM</td>\n",
       "        <td>050XX N KEDZIE AVE</td>\n",
       "        <td>0810</td>\n",
       "        <td>THEFT</td>\n",
       "        <td>OVER $500</td>\n",
       "        <td>STREET</td>\n",
       "        <td>False</td>\n",
       "        <td>False</td>\n",
       "        <td>1713</td>\n",
       "        <td>17.0</td>\n",
       "        <td>33.0</td>\n",
       "        <td>14.0</td>\n",
       "        <td>06</td>\n",
       "        <td>1154133.0</td>\n",
       "        <td>1933314.0</td>\n",
       "        <td>2016</td>\n",
       "        <td>02/10/2018 03:50:01 PM</td>\n",
       "        <td>41.972844913</td>\n",
       "        <td>-87.70860007899999</td>\n",
       "        <td>(41.972844913, -87.708600079)</td>\n",
       "    </tr>\n",
       "    <tr>\n",
       "        <td>4494340</td>\n",
       "        <td>HL793243</td>\n",
       "        <td>12/16/2005 04:45:00 PM</td>\n",
       "        <td>005XX E PERSHING RD</td>\n",
       "        <td>0860</td>\n",
       "        <td>THEFT</td>\n",
       "        <td>RETAIL THEFT</td>\n",
       "        <td>GROCERY FOOD STORE</td>\n",
       "        <td>True</td>\n",
       "        <td>False</td>\n",
       "        <td>213</td>\n",
       "        <td>2.0</td>\n",
       "        <td>3.0</td>\n",
       "        <td>38.0</td>\n",
       "        <td>06</td>\n",
       "        <td>1180448.0</td>\n",
       "        <td>1879234.0</td>\n",
       "        <td>2005</td>\n",
       "        <td>02/28/2018 03:56:25 PM</td>\n",
       "        <td>41.823879885</td>\n",
       "        <td>-87.61350385700001</td>\n",
       "        <td>(41.823879885, -87.613503857)</td>\n",
       "    </tr>\n",
       "    <tr>\n",
       "        <td>3778925</td>\n",
       "        <td>HL149610</td>\n",
       "        <td>01/28/2005 05:00:00 PM</td>\n",
       "        <td>100XX S WASHTENAW AVE</td>\n",
       "        <td>0810</td>\n",
       "        <td>THEFT</td>\n",
       "        <td>OVER $500</td>\n",
       "        <td>STREET</td>\n",
       "        <td>False</td>\n",
       "        <td>False</td>\n",
       "        <td>2211</td>\n",
       "        <td>22.0</td>\n",
       "        <td>19.0</td>\n",
       "        <td>72.0</td>\n",
       "        <td>06</td>\n",
       "        <td>1160129.0</td>\n",
       "        <td>1838040.0</td>\n",
       "        <td>2005</td>\n",
       "        <td>02/28/2018 03:56:25 PM</td>\n",
       "        <td>41.711280513</td>\n",
       "        <td>-87.68917909700001</td>\n",
       "        <td>(41.711280513, -87.689179097)</td>\n",
       "    </tr>\n",
       "    <tr>\n",
       "        <td>3324217</td>\n",
       "        <td>HK361551</td>\n",
       "        <td>05/13/2004 02:15:00 PM</td>\n",
       "        <td>033XX W BELMONT AVE</td>\n",
       "        <td>0820</td>\n",
       "        <td>THEFT</td>\n",
       "        <td>$500 AND UNDER</td>\n",
       "        <td>SMALL RETAIL STORE</td>\n",
       "        <td>False</td>\n",
       "        <td>False</td>\n",
       "        <td>1733</td>\n",
       "        <td>17.0</td>\n",
       "        <td>35.0</td>\n",
       "        <td>21.0</td>\n",
       "        <td>06</td>\n",
       "        <td>1153590.0</td>\n",
       "        <td>1921084.0</td>\n",
       "        <td>2004</td>\n",
       "        <td>02/28/2018 03:56:25 PM</td>\n",
       "        <td>41.939295821</td>\n",
       "        <td>-87.71092344200001</td>\n",
       "        <td>(41.939295821, -87.710923442)</td>\n",
       "    </tr>\n",
       "</table>"
      ],
      "text/plain": [
       "[(3512276, 'HK587712', '08/28/2004 05:50:56 PM', '047XX S KEDZIE AVE', '0890', 'THEFT', 'FROM BUILDING', 'SMALL RETAIL STORE', 'False', 'False', 911, Decimal('9.0'), Decimal('14.0'), Decimal('58.0'), '06', Decimal('1155838.0'), Decimal('1873050.0'), 2004, '02/10/2018 03:50:01 PM', '41.807440500000006', Decimal('-87.70395584900000'), '(41.8074405, -87.703955849)'),\n",
       " (3406613, 'HK456306', '06/26/2004 12:40:00 PM', '009XX N CENTRAL PARK AVE', '0820', 'THEFT', '$500 AND UNDER', 'OTHER', 'False', 'False', 1112, Decimal('11.0'), Decimal('27.0'), Decimal('23.0'), '06', Decimal('1152206.0'), Decimal('1906127.0'), 2004, '02/28/2018 03:56:25 PM', '41.898279962', Decimal('-87.71640550500000'), '(41.898279962, -87.716405505)'),\n",
       " (8002131, 'HT233595', '04/04/2011 05:45:00 AM', '043XX S WABASH AVE', '0820', 'THEFT', '$500 AND UNDER', 'NURSING HOME/RETIREMENT HOME', 'False', 'False', 221, Decimal('2.0'), Decimal('3.0'), Decimal('38.0'), '06', Decimal('1177436.0'), Decimal('1876313.0'), 2011, '02/10/2018 03:50:01 PM', '41.815933131', Decimal('-87.62464212700000'), '(41.815933131, -87.624642127)'),\n",
       " (7903289, 'HT133522', '12/30/2010 04:30:00 PM', '083XX S KINGSTON AVE', '0840', 'THEFT', 'FINANCIAL ID THEFT: OVER $300', 'RESIDENCE', 'False', 'False', 423, Decimal('4.0'), Decimal('7.0'), Decimal('46.0'), '06', Decimal('1194622.0'), Decimal('1850125.0'), 2010, '02/10/2018 03:50:01 PM', '41.743665322', Decimal('-87.56246275600000'), '(41.743665322, -87.562462756)'),\n",
       " (10402076, 'HZ138551', '02/02/2016 07:30:00 PM', '033XX W 66TH ST', '0820', 'THEFT', '$500 AND UNDER', 'ALLEY', 'False', 'False', 831, Decimal('8.0'), Decimal('15.0'), Decimal('66.0'), '06', Decimal('1155240.0'), Decimal('1860661.0'), 2016, '02/10/2018 03:50:01 PM', '41.773455295', Decimal('-87.70648047100000'), '(41.773455295, -87.706480471)'),\n",
       " (7732712, 'HS540106', '09/29/2010 07:59:00 AM', '006XX W CHICAGO AVE', '0810', 'THEFT', 'OVER $500', 'PARKING LOT/GARAGE(NON.RESID.)', 'False', 'False', 1323, Decimal('12.0'), Decimal('27.0'), Decimal('24.0'), '06', Decimal('1171668.0'), Decimal('1905607.0'), 2010, '02/10/2018 03:50:01 PM', '41.896446772', Decimal('-87.64493867799999'), '(41.896446772, -87.644938678)'),\n",
       " (10769475, 'HZ534771', '11/30/2016 01:15:00 AM', '050XX N KEDZIE AVE', '0810', 'THEFT', 'OVER $500', 'STREET', 'False', 'False', 1713, Decimal('17.0'), Decimal('33.0'), Decimal('14.0'), '06', Decimal('1154133.0'), Decimal('1933314.0'), 2016, '02/10/2018 03:50:01 PM', '41.972844913', Decimal('-87.70860007899999'), '(41.972844913, -87.708600079)'),\n",
       " (4494340, 'HL793243', '12/16/2005 04:45:00 PM', '005XX E PERSHING RD', '0860', 'THEFT', 'RETAIL THEFT', 'GROCERY FOOD STORE', 'True', 'False', 213, Decimal('2.0'), Decimal('3.0'), Decimal('38.0'), '06', Decimal('1180448.0'), Decimal('1879234.0'), 2005, '02/28/2018 03:56:25 PM', '41.823879885', Decimal('-87.61350385700001'), '(41.823879885, -87.613503857)'),\n",
       " (3778925, 'HL149610', '01/28/2005 05:00:00 PM', '100XX S WASHTENAW AVE', '0810', 'THEFT', 'OVER $500', 'STREET', 'False', 'False', 2211, Decimal('22.0'), Decimal('19.0'), Decimal('72.0'), '06', Decimal('1160129.0'), Decimal('1838040.0'), 2005, '02/28/2018 03:56:25 PM', '41.711280513', Decimal('-87.68917909700001'), '(41.711280513, -87.689179097)'),\n",
       " (3324217, 'HK361551', '05/13/2004 02:15:00 PM', '033XX W BELMONT AVE', '0820', 'THEFT', '$500 AND UNDER', 'SMALL RETAIL STORE', 'False', 'False', 1733, Decimal('17.0'), Decimal('35.0'), Decimal('21.0'), '06', Decimal('1153590.0'), Decimal('1921084.0'), 2004, '02/28/2018 03:56:25 PM', '41.939295821', Decimal('-87.71092344200001'), '(41.939295821, -87.710923442)')]"
      ]
     },
     "execution_count": 67,
     "metadata": {},
     "output_type": "execute_result"
    }
   ],
   "source": [
    "#%sql SELECT CE.\"COMMUNITY_AREA_NAME\" FROM CENSUS as CE where CE.\"HARDSHIP_INDEX\" = 96.0 \n",
    "\n",
    "#%sql select SC.\"Community_Area_Name\", SC.\"Average_Student_Attendance\" from SCHOOLS as SC \\\n",
    "#    INNER JOIN CENSUS as CE on SC.\"Community_Area_Name\" = CE.\"COMMUNITY_AREA_NAME\" \\\n",
    "#    where CE.\"HARDSHIP_INDEX\" = '96' \\\n",
    "#    order by SC.\"Average_Student_Attendance\"\n",
    "\n",
    "%sql select* from CRIME fetch first 10 rows only\n",
    "#%sql select* from SCHOOLS fetch first 3 rows only\n",
    "#%sql select S.\"Community_Area_Name\" from SCHOOLS as S where S.\"Community_Area_Name\" = 'CHATHAM'\n"
   ]
  },
  {
   "cell_type": "markdown",
   "metadata": {},
   "source": [
    "Copyright &copy; 2018 [cognitiveclass.ai](cognitiveclass.ai?utm_source=bducopyrightlink&utm_medium=dswb&utm_campaign=bdu). This notebook and its source code are released under the terms of the [MIT License](https://bigdatauniversity.com/mit-license/).\n"
   ]
  }
 ],
 "metadata": {
  "kernelspec": {
   "display_name": "Python 3",
   "language": "python",
   "name": "python3"
  },
  "language_info": {
   "codemirror_mode": {
    "name": "ipython",
    "version": 3
   },
   "file_extension": ".py",
   "mimetype": "text/x-python",
   "name": "python",
   "nbconvert_exporter": "python",
   "pygments_lexer": "ipython3",
   "version": "3.6.8"
  },
  "widgets": {
   "state": {},
   "version": "1.1.2"
  }
 },
 "nbformat": 4,
 "nbformat_minor": 2
}
